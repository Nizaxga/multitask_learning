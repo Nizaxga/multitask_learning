{
 "cells": [
  {
   "cell_type": "code",
   "execution_count": 1,
   "id": "e979a5b3",
   "metadata": {},
   "outputs": [
    {
     "name": "stderr",
     "output_type": "stream",
     "text": [
      "/home/nicek/Projects/multitask_learning/.venv/lib/python3.11/site-packages/tqdm/auto.py:21: TqdmWarning: IProgress not found. Please update jupyter and ipywidgets. See https://ipywidgets.readthedocs.io/en/stable/user_install.html\n",
      "  from .autonotebook import tqdm as notebook_tqdm\n"
     ]
    }
   ],
   "source": [
    "import numpy as np\n",
    "import matplotlib.pyplot as plt\n",
    "from sklearn.decomposition import PCA\n",
    "from sklearn.datasets import make_classification, make_moons, make_circles\n",
    "from sklearn.model_selection import train_test_split\n",
    "from sentence_transformers import SentenceTransformer\n",
    "import torch\n",
    "from torch import nn\n",
    "from torch.nn import functional as f\n",
    "from torch.utils.data import TensorDataset, DataLoader"
   ]
  },
  {
   "cell_type": "code",
   "execution_count": 2,
   "id": "292e4805",
   "metadata": {},
   "outputs": [],
   "source": [
    "# model_name = \"all-MiniLM-L6-v2\"\n",
    "# model = SentenceTransformer(f\"sentence-transformers/{model_name}\")\n",
    "# embedding_size = model.get_sentence_embedding_dimension()\n",
    "# embedding = model.encode(text, convert_to_numpy=True)"
   ]
  },
  {
   "cell_type": "code",
   "execution_count": 3,
   "id": "59937692",
   "metadata": {},
   "outputs": [],
   "source": [
    "def low_rank_approximation(embedding: np.ndarray, k: int):\n",
    "    U, S, Vt = np.linalg.svd(embedding, full_matrices=False)\n",
    "    embedding_k = U[:, :k] @ np.diag(S[:k]) @ Vt[:k, :]\n",
    "    return embedding_k"
   ]
  },
  {
   "cell_type": "code",
   "execution_count": 4,
   "id": "39cabffc",
   "metadata": {},
   "outputs": [],
   "source": [
    "def low_rank_projection(embedding: np.ndarray, k: int):\n",
    "    U, S, Vt = np.linalg.svd(embedding, full_matrices=False)\n",
    "    Z = U[:, :k] * S[:k] \n",
    "    return Z"
   ]
  },
  {
   "cell_type": "code",
   "execution_count": 5,
   "id": "def01e7c",
   "metadata": {},
   "outputs": [],
   "source": [
    "def random_projection(latent: np.ndarray, k: int):\n",
    "    latent = latent / np.linalg.norm(latent, axis=1, keepdims=True)\n",
    "    R = np.random.randn(384, k) / np.sqrt(k)\n",
    "    return latent @ R"
   ]
  },
  {
   "cell_type": "code",
   "execution_count": 6,
   "id": "88a489c4",
   "metadata": {},
   "outputs": [],
   "source": [
    "def plot_proj_default(latent: np.ndarray, labels: np.ndarray):\n",
    "    latent = latent / np.linalg.norm(latent, axis=1, keepdims=True)\n",
    "    latent_2d = PCA(n_components=2).fit_transform(latent)\n",
    "    _, ax = plt.subplots(figsize=(8, 6))\n",
    "    scatter = ax.scatter( latent_2d[:, 0], latent_2d[:, 1], c=labels, cmap=\"tab20\", s=10, alpha=0.7)\n",
    "    plt.colorbar(scatter, label=\"Label ID\")\n",
    "    plt.title(\"Plot 2d Random Projection\")\n",
    "    plt.show()"
   ]
  },
  {
   "cell_type": "code",
   "execution_count": 7,
   "id": "9cef60c4",
   "metadata": {},
   "outputs": [],
   "source": [
    "def plot_random_proj(latent: np.ndarray, k: int):\n",
    "    latent_randp = random_projection(latent, k)\n",
    "    latent_2d = PCA(n_components=2).fit_transform(latent_randp)\n",
    "    _, ax = plt.subplots(figsize=(8, 6))\n",
    "    scatter = ax.scatter( latent_2d[:, 0], latent_2d[:, 1], cmap=\"tab20\", s=10, alpha=0.7)\n",
    "    plt.colorbar(scatter, label=\"Label ID\")\n",
    "    plt.title(\"Plot 2d Random Projection\")\n",
    "    plt.show()\n",
    "    pass"
   ]
  },
  {
   "cell_type": "code",
   "execution_count": 8,
   "id": "8dc0bc9a",
   "metadata": {},
   "outputs": [],
   "source": [
    "def make_dataloader(X, y, batch_size=64):\n",
    "    tensor_x = torch.tensor(X, dtype=torch.float32)\n",
    "    tensor_y = torch.tensor(y, dtype=torch.long)\n",
    "    dataset = TensorDataset(tensor_x, tensor_y)\n",
    "    return DataLoader(dataset, batch_size=batch_size, shuffle=True)"
   ]
  },
  {
   "cell_type": "code",
   "execution_count": null,
   "id": "fd675da6",
   "metadata": {},
   "outputs": [],
   "source": [
    "class ClassiNet(nn.Module):\n",
    "    def __init__(self, input_dim, num_label=2):\n",
    "        super(ClassiNet, self).__init__()\n",
    "        self.classi = nn.Linear(input_dim, num_label)\n",
    "    \n",
    "    def forward(self, x):\n",
    "        return self.classi(x)\n",
    "\n",
    "epochs = 10\n",
    "\n",
    "# One pass\n",
    "def train(model, loader, optimizer, device):\n",
    "    model.train()\n",
    "    total_loss = 0.0\n",
    "    for data, label in loader:\n",
    "        data, label = data.to(device), label.to(device)\n",
    "        optimizer.zero_grad()\n",
    "        output = model(data)\n",
    "        loss = f.cross_entropy(output, label)\n",
    "        loss.backward()\n",
    "        optimizer.step()\n",
    "        total_loss += loss.item()\n",
    "    return total_loss / len(loader)\n",
    "\n",
    "def test(model, loader, device):\n",
    "    model.eval()\n",
    "    correct, total = 0, 0\n",
    "    with torch.no_grad():\n",
    "        for data, label in loader:\n",
    "            data, label = data.to(device), label.to(device)\n",
    "            output = model(data)\n",
    "            _, predicted = torch.max(output, 1)\n",
    "            correct += (predicted == label).sum().item()\n",
    "            total += label.size(0)\n",
    "    return 100 * correct / total"
   ]
  },
  {
   "cell_type": "code",
   "execution_count": 10,
   "id": "107ddaff",
   "metadata": {},
   "outputs": [
    {
     "name": "stdout",
     "output_type": "stream",
     "text": [
      "\n",
      "[LOG] Running for k = 2\n",
      "Epoch 5: Loss=0.4470 | Test Acc=86.20%\n",
      "Epoch 10: Loss=0.3899 | Test Acc=87.80%\n",
      "\n",
      "[LOG] Running for k = 4\n",
      "Epoch 5: Loss=0.5391 | Test Acc=83.10%\n",
      "Epoch 10: Loss=0.4187 | Test Acc=88.80%\n",
      "\n",
      "[LOG] Running for k = 8\n",
      "Epoch 5: Loss=0.4087 | Test Acc=87.40%\n",
      "Epoch 10: Loss=0.3718 | Test Acc=88.20%\n",
      "\n",
      "[LOG] Running for k = 16\n",
      "Epoch 5: Loss=0.5088 | Test Acc=86.00%\n",
      "Epoch 10: Loss=0.4044 | Test Acc=88.40%\n",
      "\n",
      "[LOG] Running for k = 32\n",
      "Epoch 5: Loss=0.4470 | Test Acc=88.10%\n",
      "Epoch 10: Loss=0.3831 | Test Acc=88.30%\n",
      "\n",
      "[LOG] Running for k = 64\n",
      "Epoch 5: Loss=0.4568 | Test Acc=86.90%\n",
      "Epoch 10: Loss=0.3860 | Test Acc=87.60%\n",
      "\n",
      "[LOG] Running for k = 128\n",
      "Epoch 5: Loss=0.4494 | Test Acc=86.00%\n",
      "Epoch 10: Loss=0.3771 | Test Acc=87.90%\n",
      "\n",
      "[LOG] Running for k = 256\n",
      "Epoch 5: Loss=0.4366 | Test Acc=83.90%\n",
      "Epoch 10: Loss=0.3611 | Test Acc=85.50%\n"
     ]
    }
   ],
   "source": [
    "# Nested dim\n",
    "K = [2, 4, 8, 16, 32, 64, 128, 256]\n",
    "X, y = make_classification(\n",
    "    n_samples=5000,\n",
    "    n_features=384,\n",
    "    n_classes=2,\n",
    "    random_state=42\n",
    ")\n",
    "# X, y = make_moons(n_samples=500, noise=0.2, random_state=42)\n",
    "# X, y = make_circles(n_samples=500, noise=0.2, random_state=42)\n",
    "results = []\n",
    "\n",
    "for k in K:\n",
    "    X_train, X_test, y_train, y_test = train_test_split(\n",
    "        X, y, test_size=0.2, random_state=42, stratify=y\n",
    "    )\n",
    "    # data = random_projection()\n",
    "    # data = low_rank_projection()\n",
    "    # data = low_rank_approximation()\n",
    "\n",
    "    print(f\"\\n[LOG] Running for {k = }\")\n",
    "    X_low = low_rank_projection(X, k)\n",
    "    # X_low = random_projection(X, k)\n",
    "    X_train, X_test, y_train, y_test = train_test_split(\n",
    "        X_low, y, test_size=0.2, random_state=42, stratify=y\n",
    "    )\n",
    "    train_loader = make_dataloader(X_train, y_train)\n",
    "    test_loader = make_dataloader(X_test, y_test)\n",
    "    device = torch.device(\"cuda\" if torch.cuda.is_available() else \"cpu\")\n",
    "    model = ClassiNet(k).to(device)\n",
    "    optimizer = torch.optim.Adam(model.parameters(), lr=1e-3)\n",
    "\n",
    "    model = ClassiNet(input_dim=k).to(device)\n",
    "    optimizer = torch.optim.Adam(model.parameters(), lr=1e-3)\n",
    "    for epoch in range(epochs):\n",
    "        loss = train(model, train_loader, optimizer, device)\n",
    "        if (epoch + 1) % 5 == 0:\n",
    "            acc = test(model, test_loader, device)\n",
    "            print(f\"Epoch {epoch+1}: Loss={loss:.4f} | Test Acc={acc:.2f}%\")\n",
    "    \n",
    "    final_acc = test(model, test_loader, device)\n",
    "    results.append((k, final_acc))\n",
    "\n",
    "# plot_proj_default(X, y)"
   ]
  },
  {
   "cell_type": "code",
   "execution_count": null,
   "id": "0a6904f3",
   "metadata": {},
   "outputs": [
    {
     "data": {
      "image/png": "[encoded data removed]",
      "text/plain": [
       "<Figure size 640x480 with 1 Axes>"
      ]
     },
     "metadata": {},
     "output_type": "display_data"
    }
   ],
   "source": [
    "dims, accs = zip(*results)\n",
    "plt.plot(dims, accs, marker='o')\n",
    "plt.grid(True)\n",
    "plt.title(\"Low rank projection\")\n",
    "plt.xscale('log', base=2)\n",
    "plt.show()\n"
   ]
  },
  {
   "cell_type": "code",
   "execution_count": null,
   "id": "181b5eb9",
   "metadata": {},
   "outputs": [
    {
     "name": "stdout",
     "output_type": "stream",
     "text": [
      "\n",
      "[LOG] Running for k = 2\n",
      "(5000, 2)\n",
      "Epoch 5: Loss=0.6926 | Test Acc=51.90%\n",
      "Epoch 10: Loss=0.6908 | Test Acc=52.90%\n",
      "\n",
      "[LOG] Running for k = 4\n",
      "(5000, 4)\n",
      "Epoch 5: Loss=0.6950 | Test Acc=51.30%\n",
      "Epoch 10: Loss=0.6929 | Test Acc=51.70%\n",
      "\n",
      "[LOG] Running for k = 8\n",
      "(5000, 8)\n",
      "Epoch 5: Loss=0.6668 | Test Acc=59.60%\n",
      "Epoch 10: Loss=0.6600 | Test Acc=60.00%\n",
      "\n",
      "[LOG] Running for k = 16\n",
      "(5000, 16)\n",
      "Epoch 5: Loss=0.6776 | Test Acc=60.10%\n",
      "Epoch 10: Loss=0.6650 | Test Acc=59.00%\n",
      "\n",
      "[LOG] Running for k = 32\n",
      "(5000, 32)\n",
      "Epoch 5: Loss=0.6575 | Test Acc=65.00%\n",
      "Epoch 10: Loss=0.6398 | Test Acc=64.90%\n",
      "\n",
      "[LOG] Running for k = 64\n",
      "(5000, 64)\n",
      "Epoch 5: Loss=0.6567 | Test Acc=66.60%\n",
      "Epoch 10: Loss=0.6326 | Test Acc=67.10%\n",
      "\n",
      "[LOG] Running for k = 128\n",
      "(5000, 128)\n",
      "Epoch 5: Loss=0.6285 | Test Acc=74.80%\n",
      "Epoch 10: Loss=0.5858 | Test Acc=75.80%\n",
      "\n",
      "[LOG] Running for k = 256\n",
      "(5000, 256)\n",
      "Epoch 5: Loss=0.6068 | Test Acc=78.20%\n",
      "Epoch 10: Loss=0.5501 | Test Acc=79.40%\n"
     ]
    },
    {
     "data": {
      "image/png": "[encoded data removed]",
      "text/plain": [
       "<Figure size 640x480 with 1 Axes>"
      ]
     },
     "metadata": {},
     "output_type": "display_data"
    }
   ],
   "source": [
    "# Nested dim\n",
    "K = [2, 4, 8, 16, 32, 64, 128, 256]\n",
    "X, y = make_classification(\n",
    "    n_samples=5000,\n",
    "    n_features=384,\n",
    "    n_classes=2,\n",
    "    random_state=42\n",
    ")\n",
    "# X, y = make_moons(n_samples=500, noise=0.2, random_state=42)\n",
    "# X, y = make_circles(n_samples=500, noise=0.2, random_state=42)\n",
    "results = []\n",
    "\n",
    "for k in K:\n",
    "    X_train, X_test, y_train, y_test = train_test_split(\n",
    "        X, y, test_size=0.2, random_state=42, stratify=y\n",
    "    )\n",
    "    # data = random_projection()\n",
    "    # data = low_rank_projection()\n",
    "    # data = low_rank_approximation()\n",
    "\n",
    "    print(f\"\\n[LOG] Running for {k = }\")\n",
    "    # X_low = low_rank_projection(X, k)\n",
    "    X_low = random_projection(X, k)\n",
    "    print(X_low.shape)\n",
    "    X_train, X_test, y_train, y_test = train_test_split(\n",
    "        X_low, y, test_size=0.2, random_state=42, stratify=y\n",
    "    )\n",
    "    train_loader = make_dataloader(X_train, y_train)\n",
    "    test_loader = make_dataloader(X_test, y_test)\n",
    "    device = torch.device(\"cuda\" if torch.cuda.is_available() else \"cpu\")\n",
    "    model = ClassiNet(k).to(device)\n",
    "    optimizer = torch.optim.Adam(model.parameters(), lr=1e-3)\n",
    "    for epoch in range(epochs):\n",
    "        loss = train(model, train_loader, optimizer, device)\n",
    "        if (epoch + 1) % 5 == 0:\n",
    "            acc = test(model, test_loader, device)\n",
    "            print(f\"Epoch {epoch+1}: Loss={loss:.4f} | Test Acc={acc:.2f}%\")\n",
    "    \n",
    "    final_acc = test(model, test_loader, device)\n",
    "    results.append((k, final_acc))\n",
    "\n",
    "dims, accs = zip(*results)\n",
    "plt.plot(dims, accs, marker='o')\n",
    "plt.title(\"Random Projection\")\n",
    "plt.grid(True)\n",
    "plt.xscale('log', base=2)\n",
    "plt.show()\n"
   ]
  },
  {
   "cell_type": "code",
   "execution_count": null,
   "id": "59754099",
   "metadata": {},
   "outputs": [
    {
     "name": "stdout",
     "output_type": "stream",
     "text": [
      "\n",
      "[LOG] Running for k = 2\n",
      "(5000, 384)\n",
      "Epoch 5: Loss=0.3667 | Test Acc=88.50%\n",
      "Epoch 10: Loss=0.3614 | Test Acc=88.70%\n",
      "\n",
      "[LOG] Running for k = 4\n",
      "(5000, 384)\n",
      "Epoch 5: Loss=0.3676 | Test Acc=88.50%\n",
      "Epoch 10: Loss=0.3606 | Test Acc=88.50%\n",
      "\n",
      "[LOG] Running for k = 8\n",
      "(5000, 384)\n",
      "Epoch 5: Loss=0.3746 | Test Acc=88.00%\n",
      "Epoch 10: Loss=0.3601 | Test Acc=88.10%\n",
      "\n",
      "[LOG] Running for k = 16\n",
      "(5000, 384)\n",
      "Epoch 5: Loss=0.3805 | Test Acc=88.30%\n",
      "Epoch 10: Loss=0.3618 | Test Acc=88.60%\n",
      "\n",
      "[LOG] Running for k = 32\n",
      "(5000, 384)\n",
      "Epoch 5: Loss=0.3859 | Test Acc=88.30%\n",
      "Epoch 10: Loss=0.3602 | Test Acc=88.50%\n",
      "\n",
      "[LOG] Running for k = 64\n",
      "(5000, 384)\n",
      "Epoch 5: Loss=0.3927 | Test Acc=87.70%\n",
      "Epoch 10: Loss=0.3609 | Test Acc=88.20%\n",
      "\n",
      "[LOG] Running for k = 128\n",
      "(5000, 384)\n",
      "Epoch 5: Loss=0.3970 | Test Acc=87.90%\n",
      "Epoch 10: Loss=0.3541 | Test Acc=88.40%\n",
      "\n",
      "[LOG] Running for k = 256\n",
      "(5000, 384)\n",
      "Epoch 5: Loss=0.4120 | Test Acc=86.00%\n",
      "Epoch 10: Loss=0.3509 | Test Acc=85.90%\n"
     ]
    },
    {
     "data": {
      "image/png": "[encoded data removed]",
      "text/plain": [
       "<Figure size 640x480 with 1 Axes>"
      ]
     },
     "metadata": {},
     "output_type": "display_data"
    }
   ],
   "source": [
    "# Nested dim\n",
    "K = [2, 4, 8, 16, 32, 64, 128, 256]\n",
    "X, y = make_classification(\n",
    "    n_samples=5000,\n",
    "    n_features=384,\n",
    "    n_classes=2,\n",
    "    random_state=42\n",
    ")\n",
    "# X, y = make_moons(n_samples=500, noise=0.2, random_state=42)\n",
    "# X, y = make_circles(n_samples=500, noise=0.2, random_state=42)\n",
    "results = []\n",
    "\n",
    "for k in K:\n",
    "    X_train, X_test, y_train, y_test = train_test_split(\n",
    "        X, y, test_size=0.2, random_state=42, stratify=y\n",
    "    )\n",
    "    print(f\"\\n[LOG] Running for {k = }\")\n",
    "    # X_low = low_rank_projection(X, k)\n",
    "    # X_low = random_projection(X, k)\n",
    "    X_low = low_rank_approximation(X, k)\n",
    "    print(X_low.shape)\n",
    "    X_train, X_test, y_train, y_test = train_test_split(\n",
    "        X_low, y, test_size=0.2, random_state=42, stratify=y\n",
    "    )\n",
    "    train_loader = make_dataloader(X_train, y_train)\n",
    "    test_loader = make_dataloader(X_test, y_test)\n",
    "    device = torch.device(\"cuda\" if torch.cuda.is_available() else \"cpu\")\n",
    "\n",
    "    model = ClassiNet(384).to(device)\n",
    "    optimizer = torch.optim.Adam(model.parameters(), lr=1e-3)\n",
    "\n",
    "    for epoch in range(epochs):\n",
    "        loss = train(model, train_loader, optimizer, device)\n",
    "        if (epoch + 1) % 5 == 0:\n",
    "            acc = test(model, test_loader, device)\n",
    "            print(f\"Epoch {epoch+1}: Loss={loss:.4f} | Test Acc={acc:.2f}%\")\n",
    "    \n",
    "    final_acc = test(model, test_loader, device)\n",
    "    results.append((k, final_acc))\n",
    "\n",
    "dims, accs = zip(*results)\n",
    "plt.plot(dims, accs, marker='o')\n",
    "plt.grid(True)\n",
    "plt.title(\"Low rank approximation\")\n",
    "plt.xscale('log', base=2)\n",
    "plt.show()\n"
   ]
  }
 ],
 "metadata": {
  "kernelspec": {
   "display_name": "multitask_learning",
   "language": "python",
   "name": "python3"
  },
  "language_info": {
   "codemirror_mode": {
    "name": "ipython",
    "version": 3
   },
   "file_extension": ".py",
   "mimetype": "text/x-python",
   "name": "python",
   "nbconvert_exporter": "python",
   "pygments_lexer": "ipython3",
   "version": "3.11.13"
  }
 },
 "nbformat": 4,
 "nbformat_minor": 5
}
