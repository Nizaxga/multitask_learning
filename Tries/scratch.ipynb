{
 "cells": [
  {
   "cell_type": "code",
   "execution_count": 2,
   "id": "e979a5b3",
   "metadata": {},
   "outputs": [],
   "source": [
    "import numpy as np\n",
    "import matplotlib.pyplot as plt"
   ]
  },
  {
   "cell_type": "code",
   "execution_count": null,
   "id": "59937692",
   "metadata": {},
   "outputs": [],
   "source": [
    "def low_rank_approximation(embedding, k):\n",
    "    U, S, Vt = np.linalg.svd(embedding, full_matrices=False)\n",
    "    embedding_k = U[:, :k] @ np.diag(S[:k]) @ Vt[:k, :]\n",
    "    return embedding_k"
   ]
  },
  {
   "cell_type": "code",
   "execution_count": null,
   "id": "42634a07",
   "metadata": {},
   "outputs": [
    {
     "data": {
      "text/plain": [
       "(500, 77)"
      ]
     },
     "execution_count": 3,
     "metadata": {},
     "output_type": "execute_result"
    }
   ],
   "source": [
    "n = 500\n",
    "d = 77\n",
    "points = np.random.randn(n, d)"
   ]
  }
 ],
 "metadata": {
  "kernelspec": {
   "display_name": "multitask_learning",
   "language": "python",
   "name": "python3"
  },
  "language_info": {
   "codemirror_mode": {
    "name": "ipython",
    "version": 3
   },
   "file_extension": ".py",
   "mimetype": "text/x-python",
   "name": "python",
   "nbconvert_exporter": "python",
   "pygments_lexer": "ipython3",
   "version": "3.13.5"
  }
 },
 "nbformat": 4,
 "nbformat_minor": 5
}
